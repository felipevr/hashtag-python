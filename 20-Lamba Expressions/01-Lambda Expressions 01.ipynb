{
 "cells": [
  {
   "cell_type": "markdown",
   "metadata": {},
   "source": [
    "# Lambda Expressions\n",
    "\n",
    "### Objetivo:\n",
    "\n",
    "- As lambdas expressions são funções anônimas (sem nome mesmo) que tem 1 linha de código e são atribuidas a uma variável, como se a variável virasse uma função.\n",
    "- Elas normalmente são usadas para fazer uma única ação, mas em Python usamos principalmente dentro de métodos como argumento, para não precisarmos criar uma função só para isso\n",
    "- Outra aplicação delas está em criar um \"gerador de funções\"\n",
    "\n",
    "### Obs\n",
    "\n",
    "- Não é \"obrigatório\" usar lambda expression, até porque praticamente tudo o que você faz com elas você consegue fazer com functions normais. Mas, é importante saber entender quando encontrar e saber usar a medida que você for se acostumando e vendo necessidade\n",
    "\n",
    "### Estrutura:"
   ]
  },
  {
   "cell_type": "raw",
   "metadata": {},
   "source": [
    "minha_funcao = lambda parametro: expressão"
   ]
  },
  {
   "cell_type": "markdown",
   "metadata": {},
   "source": [
    "- Exemplo mais simples"
   ]
  },
  {
   "cell_type": "code",
   "execution_count": 1,
   "metadata": {},
   "outputs": [
    {
     "name": "stdout",
     "output_type": "stream",
     "text": [
      "10\n",
      "10\n"
     ]
    }
   ],
   "source": [
    "#funcao convencional\n",
    "def minha_funcao(num):\n",
    "    return num * 2\n",
    "\n",
    "print(minha_funcao(5))\n",
    "\n",
    "\n",
    "#funcao lambda\n",
    "minha_funcao2 = lambda num: num * 2\n",
    "\n",
    "print(minha_funcao2(5))"
   ]
  },
  {
   "cell_type": "markdown",
   "metadata": {},
   "source": [
    "- Exemplo útil: Vamos usar lambda expressions para criar uma função que calcula o preço dos produtos acrescido do imposto"
   ]
  },
  {
   "cell_type": "code",
   "execution_count": 6,
   "metadata": {},
   "outputs": [
    {
     "name": "stdout",
     "output_type": "stream",
     "text": [
      "[1.6900000000000002, 2.8600000000000003, 4.42, 5.8500000000000005, 8.71, 12.870000000000001, 143.0, 260.0, 1298.7]\n",
      "[1.6900000000000002, 2.8600000000000003, 4.42, 5.8500000000000005, 8.71, 12.870000000000001, 143.0, 260.0, 1298.7]\n",
      "[1.6900000000000002, 2.8600000000000003, 4.42, 5.8500000000000005, 8.71, 12.870000000000001, 143.0, 260.0, 1298.7]\n"
     ]
    }
   ],
   "source": [
    "imposto = 0.3\n",
    "precos = [1.3, 2.2, 3.4, 4.5, 6.7, 9.9, 110, 200, 999]\n",
    "\n",
    "#funcao convencional\n",
    "def preco_imposto(preco):\n",
    "    return preco * (1 + imposto)\n",
    "\n",
    "#funcao lambda\n",
    "preco_impostol = lambda preco: preco * (1+imposto)\n",
    "\n",
    "print(list(map(preco_imposto, precos)))\n",
    "\n",
    "print(list(map(preco_impostol, precos)))\n",
    "\n",
    "#funcao lambda diretamente no uso\n",
    "print(list(map(lambda preco: preco * (1+imposto), precos)))"
   ]
  }
 ],
 "metadata": {
  "kernelspec": {
   "display_name": "Python 3",
   "language": "python",
   "name": "python3"
  },
  "language_info": {
   "codemirror_mode": {
    "name": "ipython",
    "version": 3
   },
   "file_extension": ".py",
   "mimetype": "text/x-python",
   "name": "python",
   "nbconvert_exporter": "python",
   "pygments_lexer": "ipython3",
   "version": "3.11.7"
  }
 },
 "nbformat": 4,
 "nbformat_minor": 4
}
