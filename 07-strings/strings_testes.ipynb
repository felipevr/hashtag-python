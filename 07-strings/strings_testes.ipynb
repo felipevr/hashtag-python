{
 "cells": [
  {
   "cell_type": "code",
   "execution_count": 14,
   "metadata": {},
   "outputs": [
    {
     "name": "stdout",
     "output_type": "stream",
     "text": [
      "john@dominio.com\n",
      "h\n",
      ".\n"
     ]
    }
   ],
   "source": [
    "texto = 'Felipe'\n",
    "\n",
    "email = 'john@dominio.com'\n",
    "nome = 'John Doe'\n",
    "\n",
    "print(email)\n",
    "\n",
    "print(email[2])\n",
    "\n",
    "print(email[-4])"
   ]
  },
  {
   "cell_type": "code",
   "execution_count": 7,
   "metadata": {},
   "outputs": [
    {
     "name": "stdout",
     "output_type": "stream",
     "text": [
      "0 j\n",
      "1 o\n",
      "2 h\n",
      "3 n\n",
      "4 @\n",
      "5 e\n",
      "6 m\n",
      "7 a\n",
      "8 i\n",
      "9 l\n",
      "10 .\n",
      "11 c\n",
      "12 o\n",
      "13 m\n"
     ]
    }
   ],
   "source": [
    "i = 0\n",
    "for c in email:\n",
    "    print(i, c)\n",
    "    i += 1"
   ]
  },
  {
   "cell_type": "code",
   "execution_count": 11,
   "metadata": {},
   "outputs": [
    {
     "name": "stdout",
     "output_type": "stream",
     "text": [
      "john\n"
     ]
    }
   ],
   "source": [
    "\n",
    "print(email[:email.index('@')])"
   ]
  },
  {
   "cell_type": "code",
   "execution_count": 15,
   "metadata": {},
   "outputs": [
    {
     "name": "stdout",
     "output_type": "stream",
     "text": [
      "dominio.com\n"
     ]
    }
   ],
   "source": [
    "print(email[email.index('@')+1:])"
   ]
  },
  {
   "cell_type": "code",
   "execution_count": 16,
   "metadata": {},
   "outputs": [
    {
     "name": "stdout",
     "output_type": "stream",
     "text": [
      "n@d\n"
     ]
    }
   ],
   "source": [
    "print(email[3:6])"
   ]
  },
  {
   "cell_type": "code",
   "execution_count": 19,
   "metadata": {},
   "outputs": [
    {
     "name": "stdout",
     "output_type": "stream",
     "text": [
      "Rigo\n"
     ]
    }
   ],
   "source": [
    "texto = 'rigo'\n",
    "print(texto.capitalize())"
   ]
  },
  {
   "cell_type": "code",
   "execution_count": 20,
   "metadata": {},
   "outputs": [
    {
     "name": "stdout",
     "output_type": "stream",
     "text": [
      "rigo\n"
     ]
    }
   ],
   "source": [
    "print(texto.casefold())"
   ]
  },
  {
   "cell_type": "code",
   "execution_count": 21,
   "metadata": {},
   "outputs": [
    {
     "data": {
      "text/plain": [
       "'rigo'"
      ]
     },
     "execution_count": 21,
     "metadata": {},
     "output_type": "execute_result"
    }
   ],
   "source": [
    "texto.lower()"
   ]
  },
  {
   "cell_type": "code",
   "execution_count": 25,
   "metadata": {},
   "outputs": [
    {
     "name": "stdout",
     "output_type": "stream",
     "text": [
      "Yaba Daba Doo 123 rigo asd\n"
     ]
    }
   ],
   "source": [
    "texto2 = \"Yaba Daba Doo {} {} asd\"\n",
    "print(texto2.format(123, texto))"
   ]
  },
  {
   "cell_type": "code",
   "execution_count": 24,
   "metadata": {},
   "outputs": [
    {
     "name": "stdout",
     "output_type": "stream",
     "text": [
      "Yaba Daba Doo rigo asd\n"
     ]
    }
   ],
   "source": [
    "print(f\"Yaba Daba Doo {texto} asd\")"
   ]
  }
 ],
 "metadata": {
  "kernelspec": {
   "display_name": "Python 3",
   "language": "python",
   "name": "python3"
  },
  "language_info": {
   "codemirror_mode": {
    "name": "ipython",
    "version": 3
   },
   "file_extension": ".py",
   "mimetype": "text/x-python",
   "name": "python",
   "nbconvert_exporter": "python",
   "pygments_lexer": "ipython3",
   "version": "3.11.7"
  }
 },
 "nbformat": 4,
 "nbformat_minor": 2
}
