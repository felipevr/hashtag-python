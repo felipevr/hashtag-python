{
 "cells": [
  {
   "cell_type": "markdown",
   "metadata": {},
   "source": [
    "# Análise e Visualização de dados (parte 1)\n",
    "\n",
    "## Objetivo\n",
    "\n",
    "Vamos modificar os IDs para os nomes dos produtos, dos clientes e das lojas, para nossas análises ficarem mais intuitivas futuramente. Para isso, vamos criar um data frame com todos os detalhes.\n",
    "\n",
    "- Usaremos o método merge para isso e, depois se quisermos, podemos pegar apenas as colunas que queremos do dataframe final."
   ]
  },
  {
   "cell_type": "markdown",
   "metadata": {},
   "source": [
    "### Criando nossos dataframes"
   ]
  },
  {
   "cell_type": "code",
   "execution_count": 3,
   "metadata": {},
   "outputs": [
    {
     "data": {
      "text/html": [
       "<div>\n",
       "<style scoped>\n",
       "    .dataframe tbody tr th:only-of-type {\n",
       "        vertical-align: middle;\n",
       "    }\n",
       "\n",
       "    .dataframe tbody tr th {\n",
       "        vertical-align: top;\n",
       "    }\n",
       "\n",
       "    .dataframe thead th {\n",
       "        text-align: right;\n",
       "    }\n",
       "</style>\n",
       "<table border=\"1\" class=\"dataframe\">\n",
       "  <thead>\n",
       "    <tr style=\"text-align: right;\">\n",
       "      <th></th>\n",
       "      <th>Numero da Venda</th>\n",
       "      <th>Data da Venda</th>\n",
       "      <th>Data do Envio</th>\n",
       "      <th>ID Canal</th>\n",
       "      <th>ID Loja</th>\n",
       "      <th>ID Produto</th>\n",
       "      <th>ID Promocao</th>\n",
       "      <th>ID Cliente</th>\n",
       "      <th>Quantidade Vendida</th>\n",
       "      <th>Quantidade Devolvida</th>\n",
       "      <th>Nome do Produto</th>\n",
       "      <th>E-mail do Cliente</th>\n",
       "      <th>Nome da Loja</th>\n",
       "      <th>Nome Promocao</th>\n",
       "    </tr>\n",
       "  </thead>\n",
       "  <tbody>\n",
       "    <tr>\n",
       "      <th>0</th>\n",
       "      <td>1</td>\n",
       "      <td>01/01/2017</td>\n",
       "      <td>02/01/2017</td>\n",
       "      <td>1</td>\n",
       "      <td>86</td>\n",
       "      <td>981</td>\n",
       "      <td>2</td>\n",
       "      <td>6825</td>\n",
       "      <td>9</td>\n",
       "      <td>1</td>\n",
       "      <td>A. Datum Advanced Digital Camera M300 Pink</td>\n",
       "      <td>rbrumfieldmy@ameblo.jp</td>\n",
       "      <td>Loja Contoso Austin</td>\n",
       "      <td>Promoção de Primavera Americana</td>\n",
       "    </tr>\n",
       "    <tr>\n",
       "      <th>1</th>\n",
       "      <td>2</td>\n",
       "      <td>01/01/2017</td>\n",
       "      <td>06/01/2017</td>\n",
       "      <td>5</td>\n",
       "      <td>308</td>\n",
       "      <td>1586</td>\n",
       "      <td>2</td>\n",
       "      <td>18469</td>\n",
       "      <td>9</td>\n",
       "      <td>1</td>\n",
       "      <td>SV DVD 55DVD Storage Binder M56 Black</td>\n",
       "      <td>cshawd4@technorati.com</td>\n",
       "      <td>Loja Contoso North America Reseller</td>\n",
       "      <td>Promoção de Primavera Americana</td>\n",
       "    </tr>\n",
       "    <tr>\n",
       "      <th>2</th>\n",
       "      <td>3</td>\n",
       "      <td>01/01/2017</td>\n",
       "      <td>01/01/2017</td>\n",
       "      <td>0</td>\n",
       "      <td>294</td>\n",
       "      <td>1444</td>\n",
       "      <td>5</td>\n",
       "      <td>19730</td>\n",
       "      <td>13</td>\n",
       "      <td>1</td>\n",
       "      <td>The Phone Company Touch Screen Phones 26-2.2\" ...</td>\n",
       "      <td>kgorriekd@bandcamp.com</td>\n",
       "      <td>Loja Contoso Tehran No.2</td>\n",
       "      <td>Promoção Férias Asiáticas</td>\n",
       "    </tr>\n",
       "    <tr>\n",
       "      <th>3</th>\n",
       "      <td>4</td>\n",
       "      <td>01/01/2017</td>\n",
       "      <td>01/01/2017</td>\n",
       "      <td>0</td>\n",
       "      <td>251</td>\n",
       "      <td>1468</td>\n",
       "      <td>5</td>\n",
       "      <td>29326</td>\n",
       "      <td>6</td>\n",
       "      <td>1</td>\n",
       "      <td>Contoso Touch Screen Phones - CRT M11 Black</td>\n",
       "      <td>angela49@adventure-works.com</td>\n",
       "      <td>Loja Contoso Singapore</td>\n",
       "      <td>Promoção Férias Asiáticas</td>\n",
       "    </tr>\n",
       "    <tr>\n",
       "      <th>4</th>\n",
       "      <td>5</td>\n",
       "      <td>01/01/2017</td>\n",
       "      <td>07/01/2017</td>\n",
       "      <td>6</td>\n",
       "      <td>94</td>\n",
       "      <td>1106</td>\n",
       "      <td>2</td>\n",
       "      <td>22617</td>\n",
       "      <td>4</td>\n",
       "      <td>1</td>\n",
       "      <td>Contoso SLR Camera M146 Orange</td>\n",
       "      <td>jacob4@adventure-works.com</td>\n",
       "      <td>Loja Contoso Grand Prairie</td>\n",
       "      <td>Promoção de Primavera Americana</td>\n",
       "    </tr>\n",
       "  </tbody>\n",
       "</table>\n",
       "</div>"
      ],
      "text/plain": [
       "   Numero da Venda Data da Venda Data do Envio  ID Canal  ID Loja  ID Produto  \\\n",
       "0                1    01/01/2017    02/01/2017         1       86         981   \n",
       "1                2    01/01/2017    06/01/2017         5      308        1586   \n",
       "2                3    01/01/2017    01/01/2017         0      294        1444   \n",
       "3                4    01/01/2017    01/01/2017         0      251        1468   \n",
       "4                5    01/01/2017    07/01/2017         6       94        1106   \n",
       "\n",
       "   ID Promocao  ID Cliente  Quantidade Vendida  Quantidade Devolvida  \\\n",
       "0            2        6825                   9                     1   \n",
       "1            2       18469                   9                     1   \n",
       "2            5       19730                  13                     1   \n",
       "3            5       29326                   6                     1   \n",
       "4            2       22617                   4                     1   \n",
       "\n",
       "                                     Nome do Produto  \\\n",
       "0         A. Datum Advanced Digital Camera M300 Pink   \n",
       "1              SV DVD 55DVD Storage Binder M56 Black   \n",
       "2  The Phone Company Touch Screen Phones 26-2.2\" ...   \n",
       "3        Contoso Touch Screen Phones - CRT M11 Black   \n",
       "4                     Contoso SLR Camera M146 Orange   \n",
       "\n",
       "              E-mail do Cliente                         Nome da Loja  \\\n",
       "0        rbrumfieldmy@ameblo.jp                 Loja Contoso Austin    \n",
       "1        cshawd4@technorati.com  Loja Contoso North America Reseller   \n",
       "2        kgorriekd@bandcamp.com            Loja Contoso Tehran No.2    \n",
       "3  angela49@adventure-works.com              Loja Contoso Singapore    \n",
       "4    jacob4@adventure-works.com          Loja Contoso Grand Prairie    \n",
       "\n",
       "                     Nome Promocao  \n",
       "0  Promoção de Primavera Americana  \n",
       "1  Promoção de Primavera Americana  \n",
       "2        Promoção Férias Asiáticas  \n",
       "3        Promoção Férias Asiáticas  \n",
       "4  Promoção de Primavera Americana  "
      ]
     },
     "metadata": {},
     "output_type": "display_data"
    }
   ],
   "source": [
    "import pandas as pd\n",
    "\n",
    "#importando os arquivos\n",
    "vendas_df = pd.read_csv(r'22-Pandas\\CSV\\Contoso - Vendas - 2017.csv', sep=';')\n",
    "produtos_df = pd.read_csv(r'22-Pandas\\CSV\\Contoso - Cadastro Produtos.csv', sep=';', encoding='utf-8')\n",
    "lojas_df = pd.read_csv(r'22-Pandas\\CSV\\Contoso - Lojas.csv', sep=';')\n",
    "clientes_df = pd.read_csv(r'22-Pandas\\CSV\\Contoso - Clientes.csv', sep=';')\n",
    "promocoes_df = pd.read_csv(r'22-Pandas\\CSV\\Contoso - Promocoes.csv', sep=';')\n",
    "\n",
    "# limpando apenas as colunas que queremos\n",
    "# clientes_df = clientes_df.drop(['Unnamed: 7','Unnamed: 8','Unnamed: 9','Unnamed: 10'], axis=1)\n",
    "# promocoes_df = promocoes_df.drop(['Unnamed: 5','Unnamed: 6'], axis=1)\n",
    "clientes_df = clientes_df[['ID Cliente', 'E-mail']]\n",
    "produtos_df = produtos_df[['ID Produto', 'Nome do Produto']]\n",
    "lojas_df = lojas_df[['ID Loja', 'Nome da Loja']]\n",
    "promocoes_df = promocoes_df[['ID Promocao', 'Nome Promocao']]\n",
    "\n",
    "#juntando os dataframes\n",
    "vendas_df = vendas_df.merge(produtos_df, on='ID Produto')\n",
    "vendas_df = vendas_df.merge(clientes_df, on='ID Cliente')\n",
    "vendas_df = vendas_df.merge(lojas_df, on='ID Loja')\n",
    "vendas_df = vendas_df.merge(promocoes_df, on='ID Promocao')\n",
    "vendas_df = vendas_df.rename(columns={'E-mail':'E-mail do Cliente'})\n",
    "\n",
    "#usaremos o display para ver \n",
    "display(vendas_df.head())"
   ]
  },
  {
   "cell_type": "code",
   "execution_count": 4,
   "metadata": {},
   "outputs": [
    {
     "name": "stdout",
     "output_type": "stream",
     "text": [
      "<class 'pandas.core.frame.DataFrame'>\n",
      "RangeIndex: 980642 entries, 0 to 980641\n",
      "Data columns (total 14 columns):\n",
      " #   Column                Non-Null Count   Dtype \n",
      "---  ------                --------------   ----- \n",
      " 0   Numero da Venda       980642 non-null  int64 \n",
      " 1   Data da Venda         980642 non-null  object\n",
      " 2   Data do Envio         980642 non-null  object\n",
      " 3   ID Canal              980642 non-null  int64 \n",
      " 4   ID Loja               980642 non-null  int64 \n",
      " 5   ID Produto            980642 non-null  int64 \n",
      " 6   ID Promocao           980642 non-null  int64 \n",
      " 7   ID Cliente            980642 non-null  int64 \n",
      " 8   Quantidade Vendida    980642 non-null  int64 \n",
      " 9   Quantidade Devolvida  980642 non-null  int64 \n",
      " 10  Nome do Produto       980642 non-null  object\n",
      " 11  E-mail do Cliente     980642 non-null  object\n",
      " 12  Nome da Loja          980642 non-null  object\n",
      " 13  Nome Promocao         980642 non-null  object\n",
      "dtypes: int64(8), object(6)\n",
      "memory usage: 104.7+ MB\n"
     ]
    }
   ],
   "source": [
    "vendas_df.info()"
   ]
  },
  {
   "cell_type": "markdown",
   "metadata": {},
   "source": [
    "### Qual cliente comprou mais venzes ?\n",
    "\n",
    "* Usaremos o método .value_counts() para contar quantas vezes cada valor do Dataframe aparace\n",
    "* Usaremos o método .plot() para exibir um gráfico"
   ]
  },
  {
   "cell_type": "code",
   "execution_count": 14,
   "metadata": {},
   "outputs": [
    {
     "data": {
      "text/plain": [
       "ID Cliente\n",
       "21485    56\n",
       "16984    56\n",
       "20009    56\n",
       "12297    53\n",
       "15919    53\n",
       "         ..\n",
       "540       1\n",
       "253       1\n",
       "638       1\n",
       "39248     1\n",
       "39360     1\n",
       "Name: count, Length: 38930, dtype: int64"
      ]
     },
     "metadata": {},
     "output_type": "display_data"
    },
    {
     "data": {
      "text/plain": [
       "<Axes: xlabel='ID Cliente'>"
      ]
     },
     "execution_count": 14,
     "metadata": {},
     "output_type": "execute_result"
    },
    {
     "data": {
      "image/png": "[encoded data removed]",
      "text/plain": [
       "<Figure size 640x480 with 1 Axes>"
      ]
     },
     "metadata": {},
     "output_type": "display_data"
    }
   ],
   "source": [
    "#vamos usar a coluna ID Cliente como referencia\n",
    "\n",
    "frequencia_clientes1 = vendas_df['ID Cliente'].value_counts()\n",
    "display(frequencia_clientes1)\n",
    "frequencia_clientes1[:50].plot()"
   ]
  },
  {
   "cell_type": "code",
   "execution_count": 11,
   "metadata": {},
   "outputs": [
    {
     "data": {
      "text/plain": [
       "E-mail do Cliente\n",
       "karen33@adventure-works.com      77\n",
       "chloe77@adventure-works.com      74\n",
       "julia43@adventure-works.com      69\n",
       "gilbert9@adventure-works.com     68\n",
       "destiny66@adventure-works.com    68\n",
       "                                 ..\n",
       "mblemen9o@ebay.com                1\n",
       "rebecca15@adventure-works.com     1\n",
       "kevin10@adventure-works.com       1\n",
       "siliffe8l@spotify.com             1\n",
       "clifford8@adventure-works.com     1\n",
       "Name: count, Length: 38907, dtype: int64"
      ]
     },
     "execution_count": 11,
     "metadata": {},
     "output_type": "execute_result"
    }
   ],
   "source": [
    "frequencia_clientes = vendas_df['E-mail do Cliente'].value_counts()\n",
    "frequencia_clientes"
   ]
  },
  {
   "cell_type": "code",
   "execution_count": 18,
   "metadata": {},
   "outputs": [
    {
     "data": {
      "text/plain": [
       "<Axes: xlabel='E-mail do Cliente'>"
      ]
     },
     "execution_count": 18,
     "metadata": {},
     "output_type": "execute_result"
    },
    {
     "data": {
      "image/png": "[encoded data removed]",
      "text/plain": [
       "<Figure size 1500x500 with 1 Axes>"
      ]
     },
     "metadata": {},
     "output_type": "display_data"
    }
   ],
   "source": [
    "frequencia_clientes[:10].plot(figsize=(15,5)) #, yticks=range(10, 80, 5))"
   ]
  },
  {
   "cell_type": "markdown",
   "metadata": {},
   "source": [
    "### Qual loja vendeu mais?"
   ]
  },
  {
   "cell_type": "code",
   "execution_count": null,
   "metadata": {},
   "outputs": [],
   "source": []
  }
 ],
 "metadata": {
  "kernelspec": {
   "display_name": "Python 3",
   "language": "python",
   "name": "python3"
  },
  "language_info": {
   "codemirror_mode": {
    "name": "ipython",
    "version": 3
   },
   "file_extension": ".py",
   "mimetype": "text/x-python",
   "name": "python",
   "nbconvert_exporter": "python",
   "pygments_lexer": "ipython3",
   "version": "3.11.7"
  }
 },
 "nbformat": 4,
 "nbformat_minor": 4
}
