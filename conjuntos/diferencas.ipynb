{
 "cells": [
  {
   "cell_type": "markdown",
   "metadata": {},
   "source": [
    "## Analistando diferenças entre listas, tuplas e sets"
   ]
  },
  {
   "cell_type": "code",
   "execution_count": 55,
   "metadata": {},
   "outputs": [],
   "source": [
    "lista_produtos = ['feijao','feijao','arroz',  'batata']\n",
    "\n",
    "tupla_produtos = ('feijao', 'feijao','arroz',  'batata')\n",
    "\n",
    "set_produtos = {'feijao', 'batata', 'feijao', 'arroz',  'batata'}"
   ]
  },
  {
   "cell_type": "markdown",
   "metadata": {},
   "source": [
    "*O set não permite valores repetivos"
   ]
  },
  {
   "cell_type": "code",
   "execution_count": 56,
   "metadata": {},
   "outputs": [
    {
     "name": "stdout",
     "output_type": "stream",
     "text": [
      "['feijao', 'feijao', 'arroz', 'batata']\n",
      "('feijao', 'feijao', 'arroz', 'batata')\n",
      "{'arroz', 'feijao', 'batata'}\n"
     ]
    }
   ],
   "source": [
    "#imprime valores\n",
    "\n",
    "print(lista_produtos)\n",
    "print(tupla_produtos)\n",
    "print(set_produtos)"
   ]
  },
  {
   "cell_type": "code",
   "execution_count": 57,
   "metadata": {},
   "outputs": [
    {
     "name": "stdout",
     "output_type": "stream",
     "text": [
      "feijao\n",
      "feijao\n",
      "arroz\n"
     ]
    }
   ],
   "source": [
    "#pegar valores\n",
    "\n",
    "print(lista_produtos[0])\n",
    "print(tupla_produtos[0])\n",
    "print(list(set_produtos)[0])"
   ]
  },
  {
   "cell_type": "code",
   "execution_count": 58,
   "metadata": {},
   "outputs": [
    {
     "name": "stdout",
     "output_type": "stream",
     "text": [
      "['feijao', 'feijao', 'arroz', 'batata', 'pudim']\n",
      "('feijao', 'feijao', 'arroz', 'batata', 'pudim')\n",
      "{'arroz', 'feijao', 'batata', 'pudim'}\n"
     ]
    }
   ],
   "source": [
    "#adicionar valores\n",
    "\n",
    "lista_produtos.append(\"pudim\")\n",
    "set_produtos.add(\"pudim\")\n",
    "\n",
    "tupla_produtos = tuple(list(tupla_produtos) + ['pudim'])\n",
    "\n",
    "print(lista_produtos)\n",
    "print(tupla_produtos)\n",
    "print(set_produtos)"
   ]
  },
  {
   "cell_type": "code",
   "execution_count": 59,
   "metadata": {},
   "outputs": [
    {
     "name": "stdout",
     "output_type": "stream",
     "text": [
      "['feijao', 'feijao', 'arroz', 'batata', 'pudim', 'arroz']\n",
      "('feijao', 'feijao', 'arroz', 'batata', 'pudim', 'arroz')\n",
      "{'arroz', 'feijao', 'batata', 'pudim'}\n"
     ]
    }
   ],
   "source": [
    "#valores repetivos\n",
    "\n",
    "lista_produtos.append(\"arroz\")\n",
    "set_produtos.add(\"arroz\")\n",
    "\n",
    "# tupla não pode ter valores alterados, é necessário recria-la\n",
    "tupla_produtos = tuple(list(tupla_produtos) + ['arroz'])\n",
    "\n",
    "print(lista_produtos)\n",
    "print(tupla_produtos)\n",
    "print(set_produtos)"
   ]
  },
  {
   "cell_type": "code",
   "execution_count": 60,
   "metadata": {},
   "outputs": [
    {
     "name": "stdout",
     "output_type": "stream",
     "text": [
      "['arroz', 'feijao', 'batata', 'pudim']\n",
      "('arroz', 'feijao', 'batata', 'pudim')\n",
      "{'arroz', 'feijao', 'batata', 'pudim'}\n"
     ]
    }
   ],
   "source": [
    "#removendo valores repetivos de listas e tuplas\n",
    "\n",
    "lista_produtos = list(set(lista_produtos))\n",
    "tupla_produtos = tuple(set(tupla_produtos))\n",
    "\n",
    "\n",
    "print(lista_produtos)\n",
    "print(tupla_produtos)\n",
    "print(set_produtos)"
   ]
  }
 ],
 "metadata": {
  "kernelspec": {
   "display_name": "Python 3",
   "language": "python",
   "name": "python3"
  },
  "language_info": {
   "codemirror_mode": {
    "name": "ipython",
    "version": 3
   },
   "file_extension": ".py",
   "mimetype": "text/x-python",
   "name": "python",
   "nbconvert_exporter": "python",
   "pygments_lexer": "ipython3",
   "version": "3.11.7"
  }
 },
 "nbformat": 4,
 "nbformat_minor": 2
}
