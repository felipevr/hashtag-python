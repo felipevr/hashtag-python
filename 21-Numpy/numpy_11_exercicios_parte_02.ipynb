{
 "cells": [
  {
   "cell_type": "markdown",
   "metadata": {},
   "source": [
    "## Exercício\n",
    "\n",
    "Você é um analista de dados em uma empresa e conduziu uma pesquisa de satisfação do cliente durante uma semana. Você perguntou as clientes para classificar seu nível de satisfação com o serviço ao cliente em uma escala de 0 a 10. Você coletou respostas de 30 clientes por dia durante 7 dias, resultando em um total de 210 respostas.\n",
    "\n",
    "No entanto, os dados que você recebeu estão em um array 1D de 210 elementos. Reorganize os dados de forma a ter as respostas por dia e faça uma análise descritiva básica, calculando a média geral de satisfação e a média diária."
   ]
  },
  {
   "cell_type": "code",
   "execution_count": 10,
   "metadata": {
    "ExecuteTime": {
     "end_time": "2023-07-03T12:12:12.700234800Z",
     "start_time": "2023-07-03T12:12:12.677347900Z"
    },
    "collapsed": false,
    "jupyter": {
     "outputs_hidden": false
    }
   },
   "outputs": [
    {
     "name": "stdout",
     "output_type": "stream",
     "text": [
      "[ 1  8  7  5  5  9  1  7  3  1  6 10  8  8  8  8  6  2  9  5  6  4  2 10\n",
      "  8  7  5  9  6  5  5  3  1  6  9  1  9  9  3  7  2  8  8  4  1 10  5  9\n",
      "  7  8  8  2  4  5  5  1  6  2  8  7 10  8  4 10  5  4 10  4  1  5  8  2\n",
      "  5  2  7  5  4  3  6  7 10  5  2  9  7  8  1  4  8  9  5  9  9  4  9  3\n",
      "  3  7  7  2  9  2  9  1  8  8  8  7  5  8  3  8  6  5  6  6  1  2  3  2\n",
      "  5  7  7  5  9  6  1  8  6  7  6  6  1  6  8  4  7  1  4  5 10  3  3  5\n",
      " 10  9  1  3  9  1  9  3 10  3  5  7  2  6  6  8 10  7  5  5  5  9  4  2\n",
      "  4  1  2  1  8  8  7  5  8  2 10  6 10  2  5  7  5  5  2  4  3  4  7  7\n",
      "  7  4 10  1  4  2  4 10  4 10  5  7  5  3  8 10  3  8]\n"
     ]
    }
   ],
   "source": [
    "import numpy as np\n",
    "\n",
    "# considere os seguintes dados aleatórios como início\n",
    "rng = np.random.default_rng(seed=42)\n",
    "respostas = rng.integers(low=1, high=10, size=210, endpoint=True)\n",
    "print(respostas)"
   ]
  },
  {
   "cell_type": "markdown",
   "metadata": {},
   "source": [
    "O seguinte modelo pode ser pensado para os dados recebidos:\n",
    "\n",
    "    dia 1 cliente 1, dia 1 cliente 2, dia 1 cliente 3, ...\n",
    "    ... dia 7 cliente 28, dia 7 cliente 29, dia 7 cliente 30\n",
    "    \n",
    "Assim, podemos fazer um reshape:"
   ]
  },
  {
   "cell_type": "code",
   "execution_count": 11,
   "metadata": {},
   "outputs": [
    {
     "data": {
      "text/plain": [
       "array([[ 1,  8,  7,  5,  5,  9,  1,  7,  3,  1,  6, 10,  8,  8,  8,  8,\n",
       "         6,  2,  9,  5,  6,  4,  2, 10,  8,  7,  5,  9,  6,  5],\n",
       "       [ 5,  3,  1,  6,  9,  1,  9,  9,  3,  7,  2,  8,  8,  4,  1, 10,\n",
       "         5,  9,  7,  8,  8,  2,  4,  5,  5,  1,  6,  2,  8,  7],\n",
       "       [10,  8,  4, 10,  5,  4, 10,  4,  1,  5,  8,  2,  5,  2,  7,  5,\n",
       "         4,  3,  6,  7, 10,  5,  2,  9,  7,  8,  1,  4,  8,  9],\n",
       "       [ 5,  9,  9,  4,  9,  3,  3,  7,  7,  2,  9,  2,  9,  1,  8,  8,\n",
       "         8,  7,  5,  8,  3,  8,  6,  5,  6,  6,  1,  2,  3,  2],\n",
       "       [ 5,  7,  7,  5,  9,  6,  1,  8,  6,  7,  6,  6,  1,  6,  8,  4,\n",
       "         7,  1,  4,  5, 10,  3,  3,  5, 10,  9,  1,  3,  9,  1],\n",
       "       [ 9,  3, 10,  3,  5,  7,  2,  6,  6,  8, 10,  7,  5,  5,  5,  9,\n",
       "         4,  2,  4,  1,  2,  1,  8,  8,  7,  5,  8,  2, 10,  6],\n",
       "       [10,  2,  5,  7,  5,  5,  2,  4,  3,  4,  7,  7,  7,  4, 10,  1,\n",
       "         4,  2,  4, 10,  4, 10,  5,  7,  5,  3,  8, 10,  3,  8]],\n",
       "      dtype=int64)"
      ]
     },
     "execution_count": 11,
     "metadata": {},
     "output_type": "execute_result"
    }
   ],
   "source": [
    "respostas_ajustadas = respostas.reshape((7,30))\n",
    "respostas_ajustadas"
   ]
  },
  {
   "cell_type": "code",
   "execution_count": 12,
   "metadata": {},
   "outputs": [
    {
     "data": {
      "text/plain": [
       "5.604761904761904"
      ]
     },
     "execution_count": 12,
     "metadata": {},
     "output_type": "execute_result"
    }
   ],
   "source": [
    "media_geral_satisfação = respostas.mean()\n",
    "media_geral_satisfação"
   ]
  },
  {
   "cell_type": "code",
   "execution_count": 13,
   "metadata": {},
   "outputs": [
    {
     "data": {
      "text/plain": [
       "array([6.42857143, 5.71428571, 6.14285714, 5.71428571, 6.71428571,\n",
       "       5.        , 4.        , 6.42857143, 4.14285714, 4.85714286,\n",
       "       6.85714286, 6.        , 6.14285714, 4.28571429, 6.71428571,\n",
       "       6.42857143, 5.42857143, 3.71428571, 5.57142857, 6.28571429,\n",
       "       6.14285714, 4.71428571, 4.28571429, 7.        , 6.85714286,\n",
       "       5.57142857, 4.28571429, 4.57142857, 6.71428571, 5.42857143])"
      ]
     },
     "execution_count": 13,
     "metadata": {},
     "output_type": "execute_result"
    }
   ],
   "source": [
    "satisfação_por_cliente = respostas_ajustadas.mean(axis=0)\n",
    "satisfação_por_cliente"
   ]
  },
  {
   "cell_type": "code",
   "execution_count": 14,
   "metadata": {},
   "outputs": [
    {
     "data": {
      "text/plain": [
       "array([5.96666667, 5.43333333, 5.76666667, 5.5       , 5.43333333,\n",
       "       5.6       , 5.53333333])"
      ]
     },
     "execution_count": 14,
     "metadata": {},
     "output_type": "execute_result"
    }
   ],
   "source": [
    "satisfação_por_dia = respostas_ajustadas.mean(axis=1)\n",
    "satisfação_por_dia"
   ]
  },
  {
   "cell_type": "code",
   "execution_count": 15,
   "metadata": {},
   "outputs": [
    {
     "data": {
      "text/plain": [
       "7"
      ]
     },
     "execution_count": 15,
     "metadata": {},
     "output_type": "execute_result"
    }
   ],
   "source": [
    "len(satisfação_por_dia)"
   ]
  },
  {
   "cell_type": "code",
   "execution_count": null,
   "metadata": {},
   "outputs": [],
   "source": []
  }
 ],
 "metadata": {
  "kernelspec": {
   "display_name": "Python 3 (ipykernel)",
   "language": "python",
   "name": "python3"
  },
  "language_info": {
   "codemirror_mode": {
    "name": "ipython",
    "version": 3
   },
   "file_extension": ".py",
   "mimetype": "text/x-python",
   "name": "python",
   "nbconvert_exporter": "python",
   "pygments_lexer": "ipython3",
   "version": "3.11.7"
  }
 },
 "nbformat": 4,
 "nbformat_minor": 4
}
