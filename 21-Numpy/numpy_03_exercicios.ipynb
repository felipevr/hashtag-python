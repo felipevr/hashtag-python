{
 "cells": [
  {
   "cell_type": "markdown",
   "metadata": {},
   "source": [
    "## Exercício 1\n",
    "\n",
    "Você é um gerente de vendas e tem os dados de vendas de um produto para os últimos 7 dias em uma lista: `[127, 90, 201, 150, 210, 220, 115]`. Calcule a média de vendas durante a semana."
   ]
  },
  {
   "cell_type": "code",
   "execution_count": 7,
   "metadata": {
    "collapsed": false,
    "jupyter": {
     "outputs_hidden": false
    }
   },
   "outputs": [
    {
     "name": "stdout",
     "output_type": "stream",
     "text": [
      "A média de vendas foi de R$ 159.0\n"
     ]
    }
   ],
   "source": [
    "import numpy as np\n",
    "\n",
    "dados = [127, 90, 201, 150, 210, 220, 115]\n",
    "\n",
    "arr = np.array(dados)\n",
    "\n",
    "print('A média de vendas foi de R$', np.mean(arr))\n"
   ]
  },
  {
   "cell_type": "markdown",
   "metadata": {},
   "source": [
    "## Exercício 2\n",
    "\n",
    "Você é um analista financeiro e tem os preços de fechamento diário de uma ação para a última semana em um array NumPy: `precos = np.array([31.40, 31.25, 30.95, 31.20, 31.60, 31.50])`. Calcule o preço máximo, mínimo e a variação de preço durante a semana."
   ]
  },
  {
   "cell_type": "code",
   "execution_count": 16,
   "metadata": {
    "collapsed": false,
    "jupyter": {
     "outputs_hidden": false
    }
   },
   "outputs": [
    {
     "name": "stdout",
     "output_type": "stream",
     "text": [
      "O Preço máximo da ação foi de R$ 31.60, o preço mínimo foi R$ 30.95, resultando em uma variação máxima de preço de R$ 0.65\n",
      "O Preço !MAX>>> R$ 31.60 <<<MAX!! - !!MIN>>> R$ 30.95 <<<MIN!! - !!VAR>>> R$ 0.65 <<<VAR!\n"
     ]
    }
   ],
   "source": [
    "import numpy as np\n",
    "\n",
    "precos = np.array([31.40, 31.25, 30.95, 31.20, 31.60, 31.50])\n",
    "\n",
    "preco_minimo = np.min(precos)\n",
    "preco_maximo = np.max(precos)\n",
    "\n",
    "#print('Preço máximo da ação: ', preco_maximo)\n",
    "#print('Preço mínimo da ação: ', preco_minimo)\n",
    "#print('Variancia do Preço da ação: ', np.var(precos))\n",
    "\n",
    "variacao = preco_maximo - preco_minimo\n",
    "#print('Variação do Preço da ação: ', variacao)\n",
    "\n",
    "\n",
    "print(f'O Preço máximo da ação foi de R$ {preco_maximo:.2f}, o preço mínimo foi R$ {preco_minimo}, resultando em uma variação máxima de preço de R$ {variacao:.2f}', )\n",
    "\n",
    "\n",
    "print(f'O Preço !MAX>>> R$ {preco_maximo:.2f} <<<MAX!! - !!MIN>>> R$ {preco_minimo} <<<MIN!! - !!VAR>>> R$ {variacao:.2f} <<<VAR!', )"
   ]
  },
  {
   "cell_type": "markdown",
   "metadata": {},
   "source": [
    "## Exercício 3\n",
    "\n",
    "Sua loja vendeu em um dia 5 unidades do *Produto A*, 3 unidades do *Produto B* e 2 unidades do *Produto C*. Os preços dos produtos são, respectivamente, 100, 200 e 50 reais. Calcule o total de vendas do dia."
   ]
  },
  {
   "cell_type": "code",
   "execution_count": 22,
   "metadata": {},
   "outputs": [
    {
     "name": "stdout",
     "output_type": "stream",
     "text": [
      "Total de vendas do dia foi de R$ 1200.00\n"
     ]
    }
   ],
   "source": [
    "import numpy as np\n",
    "\n",
    "quantidades = np.array([5, 3, 2])\n",
    "precos = np.array([100, 200, 50])\n",
    "\n",
    "total_vendas = np.dot(quantidades, precos)\n",
    "#equivalente ao abaixo para um array 1D\n",
    "#total_vendas2 = np.sum(quantidades * precos)\n",
    "\n",
    "print(f'Total de vendas do dia foi de R$ {total_vendas:.2f}')\n"
   ]
  }
 ],
 "metadata": {
  "kernelspec": {
   "display_name": "Python 3 (ipykernel)",
   "language": "python",
   "name": "python3"
  },
  "language_info": {
   "codemirror_mode": {
    "name": "ipython",
    "version": 3
   },
   "file_extension": ".py",
   "mimetype": "text/x-python",
   "name": "python",
   "nbconvert_exporter": "python",
   "pygments_lexer": "ipython3",
   "version": "3.11.7"
  }
 },
 "nbformat": 4,
 "nbformat_minor": 4
}
