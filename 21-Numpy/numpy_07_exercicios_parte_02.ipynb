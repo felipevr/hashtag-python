{
 "cells": [
  {
   "cell_type": "markdown",
   "metadata": {},
   "source": [
    "## Exercício\n",
    "\n",
    "Você é um engenheiro de produção e tem os tempos de ciclo (em minutos) de uma linha de produção em um array NumPy. Seu trabalho é identificar quaisquer tempos de ciclo que estão dois desvios padrão acima ou abaixo da média. Use o seguinte array para sua análise: `tempos_ciclo = np.array([5.5, 5.7, 5.9, 6.0, 5.8, 5.6, 5.7, 7.2, 4.8])`. "
   ]
  },
  {
   "cell_type": "code",
   "execution_count": 67,
   "metadata": {
    "ExecuteTime": {
     "end_time": "2023-07-03T12:12:12.700234800Z",
     "start_time": "2023-07-03T12:12:12.644925Z"
    },
    "collapsed": false,
    "jupyter": {
     "outputs_hidden": false
    }
   },
   "outputs": [],
   "source": [
    "import numpy as np\n",
    "\n",
    "tempos_ciclo = np.array([5.5, 5.7, 5.9, 6.0, 5.8, 5.6, 5.7, 7.2, 4.8, 4.1])\n",
    "media = np.mean(tempos_ciclo) "
   ]
  },
  {
   "cell_type": "markdown",
   "metadata": {},
   "source": [
    "Considerando uma distribuição normal:\n",
    "\n",
    "![normal](https://upload.wikimedia.org/wikipedia/commons/thumb/3/3a/Standard_deviation_diagram_micro.svg/640px-Standard_deviation_diagram_micro.svg.png)"
   ]
  },
  {
   "cell_type": "code",
   "execution_count": 68,
   "metadata": {},
   "outputs": [
    {
     "data": {
      "text/plain": [
       "0.7590125163658372"
      ]
     },
     "execution_count": 68,
     "metadata": {},
     "output_type": "execute_result"
    }
   ],
   "source": [
    "desvio_padrao = tempos_ciclo.std()\n",
    "desvio_padrao"
   ]
  },
  {
   "cell_type": "code",
   "execution_count": 69,
   "metadata": {},
   "outputs": [
    {
     "data": {
      "text/plain": [
       "(array([7, 9], dtype=int64),)"
      ]
     },
     "execution_count": 69,
     "metadata": {},
     "output_type": "execute_result"
    }
   ],
   "source": [
    "desvio2 = desvio_padrao * 2\n",
    "\n",
    "limite_superior = media + desvio2\n",
    "limite_inferior = media - desvio2\n",
    "\n",
    "condicao_a = tempos_ciclo > limite_superior\n",
    "condicao_b = tempos_ciclo < limite_inferior\n",
    "condicao = condicao_a | condicao_b\n",
    "\n",
    "anomalias = np.where(condicao)\n",
    "anomalias"
   ]
  },
  {
   "cell_type": "code",
   "execution_count": 70,
   "metadata": {},
   "outputs": [
    {
     "data": {
      "text/plain": [
       "array([7.2, 4.1])"
      ]
     },
     "execution_count": 70,
     "metadata": {},
     "output_type": "execute_result"
    }
   ],
   "source": [
    "outliers = tempos_ciclo[anomalias]\n",
    "outliers"
   ]
  },
  {
   "cell_type": "code",
   "execution_count": 71,
   "metadata": {},
   "outputs": [
    {
     "name": "stdout",
     "output_type": "stream",
     "text": [
      "Os tempos anomalos são  [7.2 4.1]\n"
     ]
    }
   ],
   "source": [
    "print('Os tempos anomalos são ', outliers)"
   ]
  },
  {
   "cell_type": "markdown",
   "metadata": {},
   "source": [
    "# Bonus"
   ]
  },
  {
   "cell_type": "code",
   "execution_count": 72,
   "metadata": {},
   "outputs": [
    {
     "data": {
      "text/plain": [
       "array([False, False, False, False, False, False, False,  True, False,\n",
       "        True])"
      ]
     },
     "execution_count": 72,
     "metadata": {},
     "output_type": "execute_result"
    }
   ],
   "source": [
    "condicao = (tempos_ciclo > media + desvio_padrao * 2) | (tempos_ciclo < media - desvio_padrao * 2)\n",
    "condicao\n"
   ]
  },
  {
   "cell_type": "code",
   "execution_count": 73,
   "metadata": {},
   "outputs": [
    {
     "data": {
      "text/plain": [
       "(array([7, 9], dtype=int64),)"
      ]
     },
     "execution_count": 73,
     "metadata": {},
     "output_type": "execute_result"
    }
   ],
   "source": [
    "\n",
    "anomalias = np.where(condicao)\n",
    "anomalias"
   ]
  },
  {
   "cell_type": "code",
   "execution_count": 74,
   "metadata": {},
   "outputs": [
    {
     "data": {
      "text/plain": [
       "array([ True,  True,  True,  True,  True,  True,  True, False,  True,\n",
       "       False])"
      ]
     },
     "execution_count": 74,
     "metadata": {},
     "output_type": "execute_result"
    }
   ],
   "source": [
    "condicao_contraria = (tempos_ciclo <= media + desvio_padrao * 2) & (tempos_ciclo >= media - desvio_padrao * 2)\n",
    "condicao_contraria"
   ]
  },
  {
   "cell_type": "code",
   "execution_count": 75,
   "metadata": {},
   "outputs": [
    {
     "data": {
      "text/plain": [
       "array([ True,  True,  True,  True,  True,  True,  True, False,  True,\n",
       "       False])"
      ]
     },
     "execution_count": 75,
     "metadata": {},
     "output_type": "execute_result"
    }
   ],
   "source": [
    "condicao_contraria = ~condicao\n",
    "condicao_contraria"
   ]
  },
  {
   "cell_type": "code",
   "execution_count": 76,
   "metadata": {},
   "outputs": [
    {
     "data": {
      "text/plain": [
       "(array([0, 1, 2, 3, 4, 5, 6, 8], dtype=int64),)"
      ]
     },
     "execution_count": 76,
     "metadata": {},
     "output_type": "execute_result"
    }
   ],
   "source": [
    "np.where(~condicao)"
   ]
  },
  {
   "cell_type": "markdown",
   "metadata": {},
   "source": [
    "## Bonus 2"
   ]
  },
  {
   "cell_type": "code",
   "execution_count": 77,
   "metadata": {},
   "outputs": [
    {
     "name": "stdout",
     "output_type": "stream",
     "text": [
      "[5.69261421 5.27750061 5.66834157 6.15085778 4.29657402 6.90850467\n",
      " 5.28249155 5.17730968 4.83533852 6.33724181 6.14231864 6.57454645\n",
      " 6.30786453 5.82962404 5.87934916 6.33986167 4.96388075 5.59516429\n",
      " 5.91984543 5.28651725 6.17775268 5.36270357 6.14066136 5.73673484\n",
      " 5.98108935 4.47808244 4.97702339 6.65054453 5.76516975 5.5682784\n",
      " 6.36146093 6.19993408 5.59450963 5.14189356 7.11837408 6.15426547\n",
      " 4.43679049 6.2671648  6.21328443 6.2477738  5.32343875 6.74675883\n",
      " 5.06225908 6.54926713 5.85207679 6.91830147 5.33503876 6.1585945\n",
      " 6.27123773 5.38426159 5.63854057 5.31531128 5.99299264 6.1526141\n",
      " 5.40862944 5.89256945 5.18834176 5.23447944 4.17073251 4.73888724\n",
      " 5.11847587 5.71211207 6.78394949 5.8342059  5.69934412 5.89406127\n",
      " 4.56625274 5.66672107 4.97109061 5.1945389  7.17557804 7.03217908\n",
      " 6.37167082 6.04214944 6.01223766 4.8974627  4.67709707 5.88405662\n",
      " 5.29057473 5.04046    5.56903429 5.57499201 5.77362289 5.06863459\n",
      " 5.64313692 4.68935004 6.56118106 6.78309461 4.79174735 5.9543316\n",
      " 5.46227765 5.71631143 5.67770579 6.53556888 6.04994011 4.97078443\n",
      " 5.69085876 5.61666976 5.02413412 5.78509519]\n"
     ]
    }
   ],
   "source": [
    "rng = np.random.default_rng(seed=99)\n",
    "tempos_gerados = rng.normal(loc=media, scale=desvio_padrao, size=100)\n",
    "print(tempos_gerados)"
   ]
  },
  {
   "cell_type": "code",
   "execution_count": 78,
   "metadata": {},
   "outputs": [
    {
     "name": "stdout",
     "output_type": "stream",
     "text": [
      "5.63\n",
      "5.711762609749175\n"
     ]
    }
   ],
   "source": [
    "print(media)\n",
    "print(tempos_gerados.mean())"
   ]
  },
  {
   "cell_type": "code",
   "execution_count": 79,
   "metadata": {},
   "outputs": [
    {
     "data": {
      "text/plain": [
       "array([False, False, False, False,  True, False, False, False, False,\n",
       "       False, False, False, False, False, False, False, False, False,\n",
       "       False, False, False, False, False, False, False, False, False,\n",
       "       False, False, False, False, False, False, False,  True, False,\n",
       "       False, False, False, False, False, False, False, False, False,\n",
       "       False, False, False, False, False, False, False, False, False,\n",
       "       False, False, False, False,  True, False, False, False, False,\n",
       "       False, False, False, False, False, False, False,  True,  True,\n",
       "       False, False, False, False, False, False, False, False, False,\n",
       "       False, False, False, False, False, False, False, False, False,\n",
       "       False, False, False, False, False, False, False, False, False,\n",
       "       False])"
      ]
     },
     "execution_count": 79,
     "metadata": {},
     "output_type": "execute_result"
    }
   ],
   "source": [
    "condicao = (tempos_gerados > tempos_gerados.mean() + tempos_gerados.std() * 2) | (tempos_gerados < tempos_gerados.mean() - tempos_gerados.std() * 2)\n",
    "condicao"
   ]
  },
  {
   "cell_type": "code",
   "execution_count": 80,
   "metadata": {},
   "outputs": [
    {
     "data": {
      "text/plain": [
       "(array([ 4, 34, 58, 70, 71], dtype=int64),)"
      ]
     },
     "metadata": {},
     "output_type": "display_data"
    },
    {
     "data": {
      "text/plain": [
       "array([4.29657402, 7.11837408, 4.17073251, 7.17557804, 7.03217908])"
      ]
     },
     "metadata": {},
     "output_type": "display_data"
    }
   ],
   "source": [
    "display(np.where(condicao))\n",
    "display(tempos_gerados[condicao])"
   ]
  },
  {
   "cell_type": "code",
   "execution_count": null,
   "metadata": {},
   "outputs": [],
   "source": []
  }
 ],
 "metadata": {
  "kernelspec": {
   "display_name": "Python 3 (ipykernel)",
   "language": "python",
   "name": "python3"
  },
  "language_info": {
   "codemirror_mode": {
    "name": "ipython",
    "version": 3
   },
   "file_extension": ".py",
   "mimetype": "text/x-python",
   "name": "python",
   "nbconvert_exporter": "python",
   "pygments_lexer": "ipython3",
   "version": "3.11.7"
  }
 },
 "nbformat": 4,
 "nbformat_minor": 4
}
